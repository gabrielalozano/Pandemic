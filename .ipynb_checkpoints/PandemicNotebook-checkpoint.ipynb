{
 "cells": [
  {
   "cell_type": "code",
   "execution_count": 1,
   "metadata": {},
   "outputs": [],
   "source": [
    "import pandas as pd\n",
    "import matplotlib.pyplot as plt\n",
    "import numpy as np"
   ]
  },
  {
   "cell_type": "code",
   "execution_count": 2,
   "metadata": {},
   "outputs": [
    {
     "data": {
      "text/html": [
       "<div>\n",
       "<style scoped>\n",
       "    .dataframe tbody tr th:only-of-type {\n",
       "        vertical-align: middle;\n",
       "    }\n",
       "\n",
       "    .dataframe tbody tr th {\n",
       "        vertical-align: top;\n",
       "    }\n",
       "\n",
       "    .dataframe thead th {\n",
       "        text-align: right;\n",
       "    }\n",
       "</style>\n",
       "<table border=\"1\" class=\"dataframe\">\n",
       "  <thead>\n",
       "    <tr style=\"text-align: right;\">\n",
       "      <th></th>\n",
       "      <th>Gabby</th>\n",
       "      <th>David</th>\n",
       "      <th>#3rd persom</th>\n",
       "      <th>#3rd role</th>\n",
       "      <th># of outbreaks</th>\n",
       "      <th>CTCO#1</th>\n",
       "      <th>CTCO#2</th>\n",
       "      <th>CTCO#3</th>\n",
       "      <th>CTCO#4</th>\n",
       "      <th>CTCO#5</th>\n",
       "      <th>CTCO#6</th>\n",
       "      <th>CTCO#7</th>\n",
       "      <th>max intensity reached 7max</th>\n",
       "      <th>Cards left</th>\n",
       "      <th>Game:</th>\n",
       "      <th>Reason</th>\n",
       "      <th>Mode</th>\n",
       "    </tr>\n",
       "  </thead>\n",
       "  <tbody>\n",
       "    <tr>\n",
       "      <th>8/3/2020</th>\n",
       "      <td>Dispatcher</td>\n",
       "      <td>Operations Expert</td>\n",
       "      <td>NaN</td>\n",
       "      <td>NaN</td>\n",
       "      <td>7</td>\n",
       "      <td>Buenos Aires</td>\n",
       "      <td>Sydney</td>\n",
       "      <td>Sydney</td>\n",
       "      <td>Sydney</td>\n",
       "      <td>Karachi</td>\n",
       "      <td>Baghdad</td>\n",
       "      <td>Tehran</td>\n",
       "      <td>6</td>\n",
       "      <td>9</td>\n",
       "      <td>Won</td>\n",
       "      <td>NaN</td>\n",
       "      <td>Expert</td>\n",
       "    </tr>\n",
       "    <tr>\n",
       "      <th>8/3/2020</th>\n",
       "      <td>Quarantine Specialist</td>\n",
       "      <td>Dispatcher</td>\n",
       "      <td>NaN</td>\n",
       "      <td>NaN</td>\n",
       "      <td>8</td>\n",
       "      <td>Khartoum</td>\n",
       "      <td>Cairo</td>\n",
       "      <td>Khartoum</td>\n",
       "      <td>Paris</td>\n",
       "      <td>Milan</td>\n",
       "      <td>Paris</td>\n",
       "      <td>Lagos</td>\n",
       "      <td>5</td>\n",
       "      <td>21</td>\n",
       "      <td>Lost</td>\n",
       "      <td>outbreak in Lagos triggered outbreak in Khartoum</td>\n",
       "      <td>Expert</td>\n",
       "    </tr>\n",
       "    <tr>\n",
       "      <th>8/3/2020</th>\n",
       "      <td>Researcher</td>\n",
       "      <td>Operations Expert</td>\n",
       "      <td>NaN</td>\n",
       "      <td>NaN</td>\n",
       "      <td>3</td>\n",
       "      <td>Lima</td>\n",
       "      <td>Paris</td>\n",
       "      <td>Seoul</td>\n",
       "      <td>NaN</td>\n",
       "      <td>NaN</td>\n",
       "      <td>NaN</td>\n",
       "      <td>NaN</td>\n",
       "      <td>5</td>\n",
       "      <td>19</td>\n",
       "      <td>Won</td>\n",
       "      <td>NaN</td>\n",
       "      <td>Expert</td>\n",
       "    </tr>\n",
       "    <tr>\n",
       "      <th>8/4/2020</th>\n",
       "      <td>Researcher</td>\n",
       "      <td>Medic</td>\n",
       "      <td>NaN</td>\n",
       "      <td>NaN</td>\n",
       "      <td>5</td>\n",
       "      <td>Milan</td>\n",
       "      <td>Atlanta</td>\n",
       "      <td>Tehran</td>\n",
       "      <td>Kolkata</td>\n",
       "      <td>London</td>\n",
       "      <td>NaN</td>\n",
       "      <td>NaN</td>\n",
       "      <td>4</td>\n",
       "      <td>21</td>\n",
       "      <td>Won</td>\n",
       "      <td>NaN</td>\n",
       "      <td>Expert</td>\n",
       "    </tr>\n",
       "    <tr>\n",
       "      <th>8/4/2020</th>\n",
       "      <td>Medic</td>\n",
       "      <td>Dispatcher</td>\n",
       "      <td>NaN</td>\n",
       "      <td>NaN</td>\n",
       "      <td>8</td>\n",
       "      <td>Bogota</td>\n",
       "      <td>Jakarta</td>\n",
       "      <td>Buenos Aires</td>\n",
       "      <td>Sao Paulo</td>\n",
       "      <td>Moscow</td>\n",
       "      <td>Tehran</td>\n",
       "      <td>Tehran</td>\n",
       "      <td>4</td>\n",
       "      <td>29</td>\n",
       "      <td>Lost</td>\n",
       "      <td>outbreak in Tehran triggered outbreak in Moscow</td>\n",
       "      <td>Expert</td>\n",
       "    </tr>\n",
       "  </tbody>\n",
       "</table>\n",
       "</div>"
      ],
      "text/plain": [
       "                          Gabby              David #3rd persom #3rd role  \\\n",
       "8/3/2020             Dispatcher  Operations Expert         NaN       NaN   \n",
       "8/3/2020  Quarantine Specialist         Dispatcher         NaN       NaN   \n",
       "8/3/2020             Researcher  Operations Expert         NaN       NaN   \n",
       "8/4/2020             Researcher              Medic         NaN       NaN   \n",
       "8/4/2020                  Medic         Dispatcher         NaN       NaN   \n",
       "\n",
       "          # of outbreaks        CTCO#1   CTCO#2        CTCO#3     CTCO#4  \\\n",
       "8/3/2020               7  Buenos Aires   Sydney        Sydney     Sydney   \n",
       "8/3/2020               8      Khartoum    Cairo      Khartoum      Paris   \n",
       "8/3/2020               3          Lima    Paris         Seoul        NaN   \n",
       "8/4/2020               5         Milan  Atlanta        Tehran    Kolkata   \n",
       "8/4/2020               8        Bogota  Jakarta  Buenos Aires  Sao Paulo   \n",
       "\n",
       "           CTCO#5   CTCO#6  CTCO#7  max intensity reached 7max  Cards left  \\\n",
       "8/3/2020  Karachi  Baghdad  Tehran                           6           9   \n",
       "8/3/2020    Milan    Paris   Lagos                           5          21   \n",
       "8/3/2020      NaN      NaN     NaN                           5          19   \n",
       "8/4/2020   London      NaN     NaN                           4          21   \n",
       "8/4/2020   Moscow   Tehran  Tehran                           4          29   \n",
       "\n",
       "         Game:                                            Reason    Mode  \n",
       "8/3/2020   Won                                               NaN  Expert  \n",
       "8/3/2020  Lost  outbreak in Lagos triggered outbreak in Khartoum  Expert  \n",
       "8/3/2020   Won                                               NaN  Expert  \n",
       "8/4/2020   Won                                               NaN  Expert  \n",
       "8/4/2020  Lost   outbreak in Tehran triggered outbreak in Moscow  Expert  "
      ]
     },
     "execution_count": 2,
     "metadata": {},
     "output_type": "execute_result"
    }
   ],
   "source": [
    "df = pd.read_csv(\"PandemicToWriteCode.csv\", index_col=0)\n",
    "df.head()"
   ]
  },
  {
   "cell_type": "code",
   "execution_count": 3,
   "metadata": {},
   "outputs": [
    {
     "data": {
      "text/plain": [
       "<matplotlib.axes._subplots.AxesSubplot at 0x2a7f9cb8198>"
      ]
     },
     "execution_count": 3,
     "metadata": {},
     "output_type": "execute_result"
    },
    {
     "data": {
      "image/png": "[encoded data removed]",
      "text/plain": [
       "<Figure size 432x288 with 1 Axes>"
      ]
     },
     "metadata": {},
     "output_type": "display_data"
    }
   ],
   "source": [
    "#Level of intensity reached\n",
    "df[\"max intensity reached 7max\"].value_counts().plot.barh()"
   ]
  },
  {
   "cell_type": "code",
   "execution_count": 4,
   "metadata": {},
   "outputs": [
    {
     "data": {
      "text/plain": [
       "Researcher               5\n",
       "Quarantine Specialist    5\n",
       "Medic                    3\n",
       "Dispatcher               2\n",
       "Operations Expert        2\n",
       "Contigency Planner       1\n",
       "Name: Gabby, dtype: int64"
      ]
     },
     "execution_count": 4,
     "metadata": {},
     "output_type": "execute_result"
    }
   ],
   "source": [
    "df[\"Gabby\"].value_counts()"
   ]
  },
  {
   "cell_type": "code",
   "execution_count": 5,
   "metadata": {},
   "outputs": [
    {
     "data": {
      "text/plain": [
       "<matplotlib.axes._subplots.AxesSubplot at 0x2a7f9daf7b8>"
      ]
     },
     "execution_count": 5,
     "metadata": {},
     "output_type": "execute_result"
    },
    {
     "data": {
      "image/png": "[encoded data removed]",
      "text/plain": [
       "<Figure size 432x288 with 1 Axes>"
      ]
     },
     "metadata": {},
     "output_type": "display_data"
    }
   ],
   "source": [
    "#Amount of times I've been each player\n",
    "\n",
    "df[\"Gabby\"].value_counts().plot.barh()"
   ]
  },
  {
   "cell_type": "code",
   "execution_count": 6,
   "metadata": {},
   "outputs": [
    {
     "data": {
      "text/plain": [
       "Medic                    5\n",
       "Operations Expert        5\n",
       "Quarantine Specialist    3\n",
       "Dispatcher               3\n",
       "Contigency Planner       2\n",
       "Name: David, dtype: int64"
      ]
     },
     "execution_count": 6,
     "metadata": {},
     "output_type": "execute_result"
    }
   ],
   "source": [
    "df[\"David\"].value_counts()"
   ]
  },
  {
   "cell_type": "code",
   "execution_count": 7,
   "metadata": {},
   "outputs": [
    {
     "data": {
      "text/plain": [
       "<matplotlib.axes._subplots.AxesSubplot at 0x2a7fa0867f0>"
      ]
     },
     "execution_count": 7,
     "metadata": {},
     "output_type": "execute_result"
    },
    {
     "data": {
      "image/png": "[encoded data removed]",
      "text/plain": [
       "<Figure size 432x288 with 1 Axes>"
      ]
     },
     "metadata": {},
     "output_type": "display_data"
    }
   ],
   "source": [
    "#Amount of time David has been \n",
    "df[\"David\"].value_counts().plot.barh()"
   ]
  },
  {
   "cell_type": "code",
   "execution_count": 8,
   "metadata": {},
   "outputs": [],
   "source": [
    "one = df[\"David\"].value_counts()\n",
    "two = df[\"Gabby\"].value_counts()"
   ]
  },
  {
   "cell_type": "code",
   "execution_count": 9,
   "metadata": {},
   "outputs": [
    {
     "data": {
      "text/html": [
       "<div>\n",
       "<style scoped>\n",
       "    .dataframe tbody tr th:only-of-type {\n",
       "        vertical-align: middle;\n",
       "    }\n",
       "\n",
       "    .dataframe tbody tr th {\n",
       "        vertical-align: top;\n",
       "    }\n",
       "\n",
       "    .dataframe thead th {\n",
       "        text-align: right;\n",
       "    }\n",
       "</style>\n",
       "<table border=\"1\" class=\"dataframe\">\n",
       "  <thead>\n",
       "    <tr style=\"text-align: right;\">\n",
       "      <th></th>\n",
       "      <th>David</th>\n",
       "    </tr>\n",
       "  </thead>\n",
       "  <tbody>\n",
       "    <tr>\n",
       "      <th>Medic</th>\n",
       "      <td>5</td>\n",
       "    </tr>\n",
       "    <tr>\n",
       "      <th>Operations Expert</th>\n",
       "      <td>5</td>\n",
       "    </tr>\n",
       "    <tr>\n",
       "      <th>Quarantine Specialist</th>\n",
       "      <td>3</td>\n",
       "    </tr>\n",
       "    <tr>\n",
       "      <th>Dispatcher</th>\n",
       "      <td>3</td>\n",
       "    </tr>\n",
       "    <tr>\n",
       "      <th>Contigency Planner</th>\n",
       "      <td>2</td>\n",
       "    </tr>\n",
       "  </tbody>\n",
       "</table>\n",
       "</div>"
      ],
      "text/plain": [
       "                       David\n",
       "Medic                      5\n",
       "Operations Expert          5\n",
       "Quarantine Specialist      3\n",
       "Dispatcher                 3\n",
       "Contigency Planner         2"
      ]
     },
     "execution_count": 9,
     "metadata": {},
     "output_type": "execute_result"
    }
   ],
   "source": [
    "one.to_frame()"
   ]
  },
  {
   "cell_type": "code",
   "execution_count": 10,
   "metadata": {},
   "outputs": [],
   "source": [
    "rolesmerged = pd.merge(one.to_frame(), two.to_frame(), how=\"outer\", left_index=True, right_index=True)"
   ]
  },
  {
   "cell_type": "code",
   "execution_count": 11,
   "metadata": {},
   "outputs": [
    {
     "data": {
      "text/plain": [
       "<matplotlib.axes._subplots.AxesSubplot at 0x2a7fa0da588>"
      ]
     },
     "execution_count": 11,
     "metadata": {},
     "output_type": "execute_result"
    },
    {
     "data": {
      "image/png": "[encoded data removed]",
      "text/plain": [
       "<Figure size 432x288 with 1 Axes>"
      ]
     },
     "metadata": {},
     "output_type": "display_data"
    }
   ],
   "source": [
    "rolesmerged.plot.barh()"
   ]
  },
  {
   "cell_type": "code",
   "execution_count": 12,
   "metadata": {
    "scrolled": true
   },
   "outputs": [
    {
     "data": {
      "text/html": [
       "<div>\n",
       "<style scoped>\n",
       "    .dataframe tbody tr th:only-of-type {\n",
       "        vertical-align: middle;\n",
       "    }\n",
       "\n",
       "    .dataframe tbody tr th {\n",
       "        vertical-align: top;\n",
       "    }\n",
       "\n",
       "    .dataframe thead th {\n",
       "        text-align: right;\n",
       "    }\n",
       "</style>\n",
       "<table border=\"1\" class=\"dataframe\">\n",
       "  <thead>\n",
       "    <tr style=\"text-align: right;\">\n",
       "      <th></th>\n",
       "      <th>Gabby</th>\n",
       "      <th>David</th>\n",
       "    </tr>\n",
       "  </thead>\n",
       "  <tbody>\n",
       "    <tr>\n",
       "      <th>8/3/2020</th>\n",
       "      <td>Dispatcher</td>\n",
       "      <td>Operations Expert</td>\n",
       "    </tr>\n",
       "    <tr>\n",
       "      <th>8/3/2020</th>\n",
       "      <td>Quarantine Specialist</td>\n",
       "      <td>Dispatcher</td>\n",
       "    </tr>\n",
       "    <tr>\n",
       "      <th>8/3/2020</th>\n",
       "      <td>Researcher</td>\n",
       "      <td>Operations Expert</td>\n",
       "    </tr>\n",
       "    <tr>\n",
       "      <th>8/4/2020</th>\n",
       "      <td>Researcher</td>\n",
       "      <td>Medic</td>\n",
       "    </tr>\n",
       "    <tr>\n",
       "      <th>8/4/2020</th>\n",
       "      <td>Medic</td>\n",
       "      <td>Dispatcher</td>\n",
       "    </tr>\n",
       "    <tr>\n",
       "      <th>8/4/2020</th>\n",
       "      <td>Quarantine Specialist</td>\n",
       "      <td>Contigency Planner</td>\n",
       "    </tr>\n",
       "    <tr>\n",
       "      <th>8/4/2020</th>\n",
       "      <td>Operations Expert</td>\n",
       "      <td>Medic</td>\n",
       "    </tr>\n",
       "    <tr>\n",
       "      <th>8/4/2020</th>\n",
       "      <td>Quarantine Specialist</td>\n",
       "      <td>Contigency Planner</td>\n",
       "    </tr>\n",
       "    <tr>\n",
       "      <th>8/4/2020</th>\n",
       "      <td>Quarantine Specialist</td>\n",
       "      <td>Medic</td>\n",
       "    </tr>\n",
       "    <tr>\n",
       "      <th>8/4/2020</th>\n",
       "      <td>Contigency Planner</td>\n",
       "      <td>Operations Expert</td>\n",
       "    </tr>\n",
       "    <tr>\n",
       "      <th>8/4/2020</th>\n",
       "      <td>Researcher</td>\n",
       "      <td>Medic</td>\n",
       "    </tr>\n",
       "    <tr>\n",
       "      <th>8/5/2020</th>\n",
       "      <td>Researcher</td>\n",
       "      <td>Operations Expert</td>\n",
       "    </tr>\n",
       "    <tr>\n",
       "      <th>8/6/2020</th>\n",
       "      <td>Medic</td>\n",
       "      <td>Operations Expert</td>\n",
       "    </tr>\n",
       "    <tr>\n",
       "      <th>8/6/2020</th>\n",
       "      <td>Quarantine Specialist</td>\n",
       "      <td>Dispatcher</td>\n",
       "    </tr>\n",
       "    <tr>\n",
       "      <th>8/7/2020</th>\n",
       "      <td>Medic</td>\n",
       "      <td>Quarantine Specialist</td>\n",
       "    </tr>\n",
       "    <tr>\n",
       "      <th>8/7/2020</th>\n",
       "      <td>Researcher</td>\n",
       "      <td>Quarantine Specialist</td>\n",
       "    </tr>\n",
       "    <tr>\n",
       "      <th>8/8/2020</th>\n",
       "      <td>Operations Expert</td>\n",
       "      <td>Quarantine Specialist</td>\n",
       "    </tr>\n",
       "    <tr>\n",
       "      <th>8/8/2020</th>\n",
       "      <td>Dispatcher</td>\n",
       "      <td>Medic</td>\n",
       "    </tr>\n",
       "  </tbody>\n",
       "</table>\n",
       "</div>"
      ],
      "text/plain": [
       "                          Gabby                  David\n",
       "8/3/2020             Dispatcher      Operations Expert\n",
       "8/3/2020  Quarantine Specialist             Dispatcher\n",
       "8/3/2020             Researcher      Operations Expert\n",
       "8/4/2020             Researcher                  Medic\n",
       "8/4/2020                  Medic             Dispatcher\n",
       "8/4/2020  Quarantine Specialist     Contigency Planner\n",
       "8/4/2020      Operations Expert                  Medic\n",
       "8/4/2020  Quarantine Specialist     Contigency Planner\n",
       "8/4/2020  Quarantine Specialist                  Medic\n",
       "8/4/2020     Contigency Planner      Operations Expert\n",
       "8/4/2020             Researcher                  Medic\n",
       "8/5/2020             Researcher      Operations Expert\n",
       "8/6/2020                  Medic      Operations Expert\n",
       "8/6/2020  Quarantine Specialist             Dispatcher\n",
       "8/7/2020                  Medic  Quarantine Specialist\n",
       "8/7/2020             Researcher  Quarantine Specialist\n",
       "8/8/2020      Operations Expert  Quarantine Specialist\n",
       "8/8/2020             Dispatcher                  Medic"
      ]
     },
     "execution_count": 12,
     "metadata": {},
     "output_type": "execute_result"
    }
   ],
   "source": [
    "import seaborn as sns\n",
    "\n",
    "df[[\"Gabby\", \"David\"]]"
   ]
  },
  {
   "cell_type": "markdown",
   "metadata": {},
   "source": [
    "# Trying to create a model to determine good plays\n"
   ]
  },
  {
   "cell_type": "code",
   "execution_count": 15,
   "metadata": {},
   "outputs": [
    {
     "data": {
      "text/html": [
       "<div>\n",
       "<style scoped>\n",
       "    .dataframe tbody tr th:only-of-type {\n",
       "        vertical-align: middle;\n",
       "    }\n",
       "\n",
       "    .dataframe tbody tr th {\n",
       "        vertical-align: top;\n",
       "    }\n",
       "\n",
       "    .dataframe thead th {\n",
       "        text-align: right;\n",
       "    }\n",
       "</style>\n",
       "<table border=\"1\" class=\"dataframe\">\n",
       "  <thead>\n",
       "    <tr style=\"text-align: right;\">\n",
       "      <th></th>\n",
       "      <th>Gabby</th>\n",
       "      <th>David</th>\n",
       "      <th>#3rd persom</th>\n",
       "      <th>#3rd role</th>\n",
       "      <th># of outbreaks</th>\n",
       "      <th>CTCO#1</th>\n",
       "      <th>CTCO#2</th>\n",
       "      <th>CTCO#3</th>\n",
       "      <th>CTCO#4</th>\n",
       "      <th>CTCO#5</th>\n",
       "      <th>CTCO#6</th>\n",
       "      <th>CTCO#7</th>\n",
       "      <th>max intensity reached 7max</th>\n",
       "      <th>Cards left</th>\n",
       "      <th>Game:</th>\n",
       "      <th>Reason</th>\n",
       "      <th>Mode</th>\n",
       "    </tr>\n",
       "  </thead>\n",
       "  <tbody>\n",
       "    <tr>\n",
       "      <th>8/3/2020</th>\n",
       "      <td>Dispatcher</td>\n",
       "      <td>Operations Expert</td>\n",
       "      <td>NaN</td>\n",
       "      <td>NaN</td>\n",
       "      <td>7</td>\n",
       "      <td>Buenos Aires</td>\n",
       "      <td>Sydney</td>\n",
       "      <td>Sydney</td>\n",
       "      <td>Sydney</td>\n",
       "      <td>Karachi</td>\n",
       "      <td>Baghdad</td>\n",
       "      <td>Tehran</td>\n",
       "      <td>6</td>\n",
       "      <td>9</td>\n",
       "      <td>Won</td>\n",
       "      <td>NaN</td>\n",
       "      <td>Expert</td>\n",
       "    </tr>\n",
       "    <tr>\n",
       "      <th>8/3/2020</th>\n",
       "      <td>Quarantine Specialist</td>\n",
       "      <td>Dispatcher</td>\n",
       "      <td>NaN</td>\n",
       "      <td>NaN</td>\n",
       "      <td>8</td>\n",
       "      <td>Khartoum</td>\n",
       "      <td>Cairo</td>\n",
       "      <td>Khartoum</td>\n",
       "      <td>Paris</td>\n",
       "      <td>Milan</td>\n",
       "      <td>Paris</td>\n",
       "      <td>Lagos</td>\n",
       "      <td>5</td>\n",
       "      <td>21</td>\n",
       "      <td>Lost</td>\n",
       "      <td>outbreak in Lagos triggered outbreak in Khartoum</td>\n",
       "      <td>Expert</td>\n",
       "    </tr>\n",
       "    <tr>\n",
       "      <th>8/3/2020</th>\n",
       "      <td>Researcher</td>\n",
       "      <td>Operations Expert</td>\n",
       "      <td>NaN</td>\n",
       "      <td>NaN</td>\n",
       "      <td>3</td>\n",
       "      <td>Lima</td>\n",
       "      <td>Paris</td>\n",
       "      <td>Seoul</td>\n",
       "      <td>NaN</td>\n",
       "      <td>NaN</td>\n",
       "      <td>NaN</td>\n",
       "      <td>NaN</td>\n",
       "      <td>5</td>\n",
       "      <td>19</td>\n",
       "      <td>Won</td>\n",
       "      <td>NaN</td>\n",
       "      <td>Expert</td>\n",
       "    </tr>\n",
       "    <tr>\n",
       "      <th>8/4/2020</th>\n",
       "      <td>Researcher</td>\n",
       "      <td>Medic</td>\n",
       "      <td>NaN</td>\n",
       "      <td>NaN</td>\n",
       "      <td>5</td>\n",
       "      <td>Milan</td>\n",
       "      <td>Atlanta</td>\n",
       "      <td>Tehran</td>\n",
       "      <td>Kolkata</td>\n",
       "      <td>London</td>\n",
       "      <td>NaN</td>\n",
       "      <td>NaN</td>\n",
       "      <td>4</td>\n",
       "      <td>21</td>\n",
       "      <td>Won</td>\n",
       "      <td>NaN</td>\n",
       "      <td>Expert</td>\n",
       "    </tr>\n",
       "    <tr>\n",
       "      <th>8/4/2020</th>\n",
       "      <td>Medic</td>\n",
       "      <td>Dispatcher</td>\n",
       "      <td>NaN</td>\n",
       "      <td>NaN</td>\n",
       "      <td>8</td>\n",
       "      <td>Bogota</td>\n",
       "      <td>Jakarta</td>\n",
       "      <td>Buenos Aires</td>\n",
       "      <td>Sao Paulo</td>\n",
       "      <td>Moscow</td>\n",
       "      <td>Tehran</td>\n",
       "      <td>Tehran</td>\n",
       "      <td>4</td>\n",
       "      <td>29</td>\n",
       "      <td>Lost</td>\n",
       "      <td>outbreak in Tehran triggered outbreak in Moscow</td>\n",
       "      <td>Expert</td>\n",
       "    </tr>\n",
       "  </tbody>\n",
       "</table>\n",
       "</div>"
      ],
      "text/plain": [
       "                          Gabby              David #3rd persom #3rd role  \\\n",
       "8/3/2020             Dispatcher  Operations Expert         NaN       NaN   \n",
       "8/3/2020  Quarantine Specialist         Dispatcher         NaN       NaN   \n",
       "8/3/2020             Researcher  Operations Expert         NaN       NaN   \n",
       "8/4/2020             Researcher              Medic         NaN       NaN   \n",
       "8/4/2020                  Medic         Dispatcher         NaN       NaN   \n",
       "\n",
       "          # of outbreaks        CTCO#1   CTCO#2        CTCO#3     CTCO#4  \\\n",
       "8/3/2020               7  Buenos Aires   Sydney        Sydney     Sydney   \n",
       "8/3/2020               8      Khartoum    Cairo      Khartoum      Paris   \n",
       "8/3/2020               3          Lima    Paris         Seoul        NaN   \n",
       "8/4/2020               5         Milan  Atlanta        Tehran    Kolkata   \n",
       "8/4/2020               8        Bogota  Jakarta  Buenos Aires  Sao Paulo   \n",
       "\n",
       "           CTCO#5   CTCO#6  CTCO#7  max intensity reached 7max  Cards left  \\\n",
       "8/3/2020  Karachi  Baghdad  Tehran                           6           9   \n",
       "8/3/2020    Milan    Paris   Lagos                           5          21   \n",
       "8/3/2020      NaN      NaN     NaN                           5          19   \n",
       "8/4/2020   London      NaN     NaN                           4          21   \n",
       "8/4/2020   Moscow   Tehran  Tehran                           4          29   \n",
       "\n",
       "         Game:                                            Reason    Mode  \n",
       "8/3/2020   Won                                               NaN  Expert  \n",
       "8/3/2020  Lost  outbreak in Lagos triggered outbreak in Khartoum  Expert  \n",
       "8/3/2020   Won                                               NaN  Expert  \n",
       "8/4/2020   Won                                               NaN  Expert  \n",
       "8/4/2020  Lost   outbreak in Tehran triggered outbreak in Moscow  Expert  "
      ]
     },
     "execution_count": 15,
     "metadata": {},
     "output_type": "execute_result"
    }
   ],
   "source": [
    "df.head()"
   ]
  },
  {
   "cell_type": "code",
   "execution_count": 29,
   "metadata": {},
   "outputs": [],
   "source": [
    "# Import train_test_split function\n",
    "from sklearn.model_selection import train_test_split\n",
    "\n",
    "from sklearn.preprocessing import LabelEncoder\n",
    "\n",
    "le = LabelEncoder()\n",
    "df['Gabby_enc'] = le.fit_transform(df['Gabby'])\n",
    "df['David_enc'] = le.fit_transform(df['David'])\n",
    "\n",
    "X=df[['Gabby_enc', 'David_enc', '# of outbreaks', 'max intensity reached 7max', 'Cards left']]  # Features\n",
    "y=df['Game:']  # Labels\n",
    "\n",
    "# Split dataset into training set and test set\n",
    "#70% training 30% testing\n",
    "X_train, X_test, y_train, y_test = train_test_split(X, y, test_size=0.3)"
   ]
  },
  {
   "cell_type": "code",
   "execution_count": 30,
   "metadata": {},
   "outputs": [],
   "source": [
    "#Import Random Forest Model\n",
    "from sklearn.ensemble import RandomForestClassifier\n",
    "\n",
    "#Create a Gaussian Classifier\n",
    "clf=RandomForestClassifier(n_estimators=100)\n",
    "\n",
    "#Train the model using the training sets y_pred=clf.predict(X_test)\n",
    "clf.fit(X_train,y_train)\n",
    "\n",
    "y_pred=clf.predict(X_test)"
   ]
  },
  {
   "cell_type": "code",
   "execution_count": 32,
   "metadata": {},
   "outputs": [
    {
     "name": "stdout",
     "output_type": "stream",
     "text": [
      "Accuracy: 1.0\n"
     ]
    }
   ],
   "source": [
    "#Import scikit-learn metrics module for accuracy calculation\n",
    "from sklearn import metrics\n",
    "# Model Accuracy, how often is the classifier correct?\n",
    "print(\"Accuracy:\",metrics.accuracy_score(y_test, y_pred))"
   ]
  },
  {
   "cell_type": "code",
   "execution_count": 50,
   "metadata": {},
   "outputs": [
    {
     "data": {
      "text/plain": [
       "['Gabby_enc',\n",
       " 'David_enc',\n",
       " '# of outbreaks',\n",
       " 'max intensity reached 7max',\n",
       " 'Cards left']"
      ]
     },
     "execution_count": 50,
     "metadata": {},
     "output_type": "execute_result"
    }
   ],
   "source": [
    "X.columns.values.tolist()"
   ]
  },
  {
   "cell_type": "code",
   "execution_count": 51,
   "metadata": {},
   "outputs": [
    {
     "data": {
      "text/plain": [
       "Cards left                    0.374931\n",
       "# of outbreaks                0.272223\n",
       "David_enc                     0.201646\n",
       "max intensity reached 7max    0.077046\n",
       "Gabby_enc                     0.034154\n",
       "dtype: float64"
      ]
     },
     "execution_count": 51,
     "metadata": {},
     "output_type": "execute_result"
    }
   ],
   "source": [
    "import pandas as pd\n",
    "feature_imp = pd.Series(clf.feature_importances_, index=X.columns.values.tolist()).sort_values(ascending=False)\n",
    "feature_imp"
   ]
  }
 ],
 "metadata": {
  "kernelspec": {
   "display_name": "Python 3",
   "language": "python",
   "name": "python3"
  },
  "language_info": {
   "codemirror_mode": {
    "name": "ipython",
    "version": 3
   },
   "file_extension": ".py",
   "mimetype": "text/x-python",
   "name": "python",
   "nbconvert_exporter": "python",
   "pygments_lexer": "ipython3",
   "version": "3.6.5"
  }
 },
 "nbformat": 4,
 "nbformat_minor": 2
}
